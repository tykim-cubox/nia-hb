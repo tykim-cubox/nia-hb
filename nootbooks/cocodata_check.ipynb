{
 "cells": [
  {
   "cell_type": "code",
   "execution_count": 1,
   "metadata": {},
   "outputs": [
    {
     "name": "stderr",
     "output_type": "stream",
     "text": [
      "/home/aiteam/miniconda3/envs/hybrik/lib/python3.7/site-packages/tqdm-4.64.0-py3.7.egg/tqdm/auto.py:22: TqdmWarning: IProgress not found. Please update jupyter and ipywidgets. See https://ipywidgets.readthedocs.io/en/stable/user_install.html\n",
      "  from .autonotebook import tqdm as notebook_tqdm\n"
     ]
    }
   ],
   "source": [
    "from hybrik.datasets.mscoco import Mscoco\n",
    "import yaml\n",
    "from easydict import EasyDict as edict\n",
    "\n",
    "\n",
    "def update_config(config_file):\n",
    "    with open(config_file) as f:\n",
    "        config = edict(yaml.load(f, Loader=yaml.FullLoader))\n",
    "        return config\n",
    "\n",
    "cfg = update_config('/home/aiteam/tykim/HybrIK/configs/256x192_adam_lr1e-3-res34_smpl_3d_cam_2x_mix.yaml')"
   ]
  },
  {
   "cell_type": "code",
   "execution_count": 2,
   "metadata": {},
   "outputs": [
    {
     "name": "stdout",
     "output_type": "stream",
     "text": [
      "loading annotations into memory...\n",
      "Done (t=6.40s)\n",
      "creating index...\n",
      "index created!\n"
     ]
    }
   ],
   "source": [
    "db1 = Mscoco(cfg=cfg,\n",
    "              ann_file=f'/home/aiteam/tykim/HybrIK/data/coco/annotations/person_keypoints_train2017.json',\n",
    "              train=True)"
   ]
  },
  {
   "cell_type": "code",
   "execution_count": 3,
   "metadata": {},
   "outputs": [
    {
     "name": "stdout",
     "output_type": "stream",
     "text": [
      "{'bbox': (167.58, 162.89, 477.19000000000005, 627.0799999999999), 'width': 481, 'height': 640, 'joints_3d': array([[[250.,   1.],\n",
      "        [244.,   1.],\n",
      "        [  0.,   0.]],\n",
      "\n",
      "       [[265.,   1.],\n",
      "        [223.,   1.],\n",
      "        [  0.,   0.]],\n",
      "\n",
      "       [[235.,   1.],\n",
      "        [235.,   1.],\n",
      "        [  0.,   0.]],\n",
      "\n",
      "       [[309.,   1.],\n",
      "        [227.,   1.],\n",
      "        [  0.,   0.]],\n",
      "\n",
      "       [[235.,   1.],\n",
      "        [253.,   1.],\n",
      "        [  0.,   0.]],\n",
      "\n",
      "       [[355.,   1.],\n",
      "        [337.,   1.],\n",
      "        [  0.,   0.]],\n",
      "\n",
      "       [[215.,   1.],\n",
      "        [342.,   1.],\n",
      "        [  0.,   0.]],\n",
      "\n",
      "       [[407.,   1.],\n",
      "        [494.,   1.],\n",
      "        [  0.,   0.]],\n",
      "\n",
      "       [[213.,   1.],\n",
      "        [520.,   1.],\n",
      "        [  0.,   0.]],\n",
      "\n",
      "       [[445.,   1.],\n",
      "        [617.,   1.],\n",
      "        [  0.,   0.]],\n",
      "\n",
      "       [[244.,   1.],\n",
      "        [447.,   1.],\n",
      "        [  0.,   0.]],\n",
      "\n",
      "       [[338.,   1.],\n",
      "        [603.,   1.],\n",
      "        [  0.,   0.]],\n",
      "\n",
      "       [[267.,   1.],\n",
      "        [608.,   1.],\n",
      "        [  0.,   0.]],\n",
      "\n",
      "       [[  0.,   0.],\n",
      "        [  0.,   0.],\n",
      "        [  0.,   0.]],\n",
      "\n",
      "       [[  0.,   0.],\n",
      "        [  0.,   0.],\n",
      "        [  0.,   0.]],\n",
      "\n",
      "       [[  0.,   0.],\n",
      "        [  0.,   0.],\n",
      "        [  0.,   0.]],\n",
      "\n",
      "       [[  0.,   0.],\n",
      "        [  0.,   0.],\n",
      "        [  0.,   0.]]], dtype=float32), 'segmentation': [[345.28, 220.68, 348.17, 269.8, 355.4, 307.36, 377.07, 318.92, 395.85, 370.93, 444.97, 565.96, 473.86, 616.52, 478.19, 628.08, 431.96, 628.08, 401.63, 581.85, 377.07, 477.83, 375.62, 529.84, 387.18, 600.63, 397.29, 628.08, 325.06, 623.75, 216.7, 622.3, 216.7, 606.41, 251.38, 529.84, 223.93, 529.84, 209.48, 528.4, 202.26, 505.28, 193.59, 485.06, 167.58, 375.26, 179.14, 334.81, 203.7, 324.7, 229.71, 313.14, 209.48, 278.47, 193.59, 248.13, 208.04, 188.89, 223.93, 175.89, 236.93, 168.67, 258.6, 162.89, 294.72, 168.67, 310.61, 174.45, 326.5, 197.56]], 'keypoints': [250, 244, 2, 265, 223, 2, 235, 235, 2, 309, 227, 2, 235, 253, 2, 355, 337, 2, 215, 342, 2, 407, 494, 2, 213, 520, 2, 445, 617, 2, 244, 447, 2, 338, 603, 2, 267, 608, 2, 0, 0, 0, 0, 0, 0, 0, 0, 0, 0, 0, 0]}\n"
     ]
    }
   ],
   "source": [
    "img, target, img_id, bbox = db1[0]"
   ]
  },
  {
   "cell_type": "code",
   "execution_count": 4,
   "metadata": {},
   "outputs": [
    {
     "data": {
      "text/plain": [
       "34"
      ]
     },
     "execution_count": 4,
     "metadata": {},
     "output_type": "execute_result"
    }
   ],
   "source": [
    "len(target['target'])"
   ]
  },
  {
   "cell_type": "code",
   "execution_count": 22,
   "metadata": {},
   "outputs": [
    {
     "data": {
      "text/plain": [
       "torch.Size([3, 256, 256])"
      ]
     },
     "execution_count": 22,
     "metadata": {},
     "output_type": "execute_result"
    }
   ],
   "source": [
    "img.shape"
   ]
  },
  {
   "cell_type": "code",
   "execution_count": 23,
   "metadata": {},
   "outputs": [
    {
     "data": {
      "text/plain": [
       "tensor([-43.9734,  28.6265, 688.7435, 761.3434])"
      ]
     },
     "execution_count": 23,
     "metadata": {},
     "output_type": "execute_result"
    }
   ],
   "source": [
    "bbox"
   ]
  },
  {
   "cell_type": "code",
   "execution_count": 24,
   "metadata": {},
   "outputs": [
    {
     "data": {
      "text/plain": [
       "{'type': '2d_data',\n",
       " 'target': tensor([ 0.1090, -0.2009,  0.1442, -0.2011,  0.1069, -0.2247,  0.1750, -0.1493,\n",
       "          0.0870, -0.2102,  0.0902, -0.0104, -0.0274, -0.1611, -0.0417,  0.1728,\n",
       "         -0.2257, -0.0208, -0.1473,  0.3133, -0.1202, -0.0450, -0.2174,  0.1838,\n",
       "         -0.2798,  0.1093, -0.5000, -0.5000, -0.5000, -0.5000, -0.5000, -0.5000,\n",
       "         -0.5000, -0.5000]),\n",
       " 'target_weight': tensor([1., 1., 1., 1., 1., 1., 1., 1., 1., 1., 1., 1., 1., 1., 1., 1., 1., 1.,\n",
       "         1., 1., 1., 1., 1., 1., 1., 1., 0., 0., 0., 0., 0., 0., 0., 0.]),\n",
       " 'trans_inv': tensor([[   1.6787,    2.3182, -189.2179],\n",
       "         [  -2.3182,    1.6787,  476.8353]]),\n",
       " 'intrinsic_param': tensor([[0., 0., 0.],\n",
       "         [0., 0., 0.],\n",
       "         [0., 0., 0.]]),\n",
       " 'joint_root': tensor([0., 0., 0.]),\n",
       " 'depth_factor': tensor([2000.])}"
      ]
     },
     "execution_count": 24,
     "metadata": {},
     "output_type": "execute_result"
    }
   ],
   "source": [
    "target"
   ]
  },
  {
   "cell_type": "code",
   "execution_count": 5,
   "metadata": {},
   "outputs": [],
   "source": [
    "from pycocotools.coco import COCO"
   ]
  },
  {
   "cell_type": "code",
   "execution_count": 6,
   "metadata": {},
   "outputs": [
    {
     "name": "stdout",
     "output_type": "stream",
     "text": [
      "loading annotations into memory...\n",
      "Done (t=8.81s)\n",
      "creating index...\n",
      "index created!\n"
     ]
    }
   ],
   "source": [
    "_coco = COCO(f'/home/aiteam/tykim/HybrIK/data/coco/annotations/person_keypoints_train2017.json')"
   ]
  },
  {
   "cell_type": "code",
   "execution_count": 5,
   "metadata": {},
   "outputs": [
    {
     "data": {
      "text/plain": [
       "pycocotools.coco.COCO"
      ]
     },
     "execution_count": 5,
     "metadata": {},
     "output_type": "execute_result"
    }
   ],
   "source": [
    "type(_coco)"
   ]
  },
  {
   "cell_type": "code",
   "execution_count": 9,
   "metadata": {},
   "outputs": [],
   "source": [
    "image_ids = sorted(_coco.getImgIds())"
   ]
  },
  {
   "cell_type": "code",
   "execution_count": 15,
   "metadata": {},
   "outputs": [
    {
     "data": {
      "text/plain": [
       "[9, 25, 30, 34, 36, 42, 49, 61, 64, 71]"
      ]
     },
     "execution_count": 15,
     "metadata": {},
     "output_type": "execute_result"
    }
   ],
   "source": [
    "image_ids[:10]"
   ]
  },
  {
   "cell_type": "code",
   "execution_count": 16,
   "metadata": {},
   "outputs": [
    {
     "data": {
      "text/plain": [
       "[{'license': 2,\n",
       "  'file_name': '000000000049.jpg',\n",
       "  'coco_url': 'http://images.cocodataset.org/train2017/000000000049.jpg',\n",
       "  'height': 500,\n",
       "  'width': 381,\n",
       "  'date_captured': '2013-11-14 20:00:23',\n",
       "  'flickr_url': 'http://farm4.staticflickr.com/3250/2883102207_bcba5527a7_z.jpg',\n",
       "  'id': 49}]"
      ]
     },
     "execution_count": 16,
     "metadata": {},
     "output_type": "execute_result"
    }
   ],
   "source": [
    "_coco.loadImgs(49)"
   ]
  },
  {
   "cell_type": "code",
   "execution_count": 17,
   "metadata": {},
   "outputs": [],
   "source": [
    "ann_ids = _coco.getAnnIds(imgIds=49, iscrowd=False)"
   ]
  },
  {
   "cell_type": "code",
   "execution_count": 18,
   "metadata": {},
   "outputs": [
    {
     "data": {
      "text/plain": [
       "[198565, 254537, 1211660, 2007474, 2010752, 2160632]"
      ]
     },
     "execution_count": 18,
     "metadata": {},
     "output_type": "execute_result"
    }
   ],
   "source": [
    "ann_ids"
   ]
  },
  {
   "cell_type": "code",
   "execution_count": 19,
   "metadata": {},
   "outputs": [],
   "source": [
    "objs = _coco.loadAnns(1211660)"
   ]
  },
  {
   "cell_type": "code",
   "execution_count": 21,
   "metadata": {},
   "outputs": [
    {
     "data": {
      "text/plain": [
       "{'segmentation': [[125.66,\n",
       "   367.36,\n",
       "   127.77,\n",
       "   367.36,\n",
       "   128.75,\n",
       "   367.5,\n",
       "   129.45,\n",
       "   367.22,\n",
       "   130.01,\n",
       "   365.81,\n",
       "   130.01,\n",
       "   363.28,\n",
       "   130.01,\n",
       "   360.62,\n",
       "   130.01,\n",
       "   357.95,\n",
       "   130.01,\n",
       "   355.7,\n",
       "   130.01,\n",
       "   351.77,\n",
       "   130.01,\n",
       "   348.82,\n",
       "   130.15,\n",
       "   346.57,\n",
       "   131,\n",
       "   344.6,\n",
       "   131.28,\n",
       "   343.2,\n",
       "   129.45,\n",
       "   341.23,\n",
       "   125.94,\n",
       "   338.71,\n",
       "   123.55,\n",
       "   336.88,\n",
       "   121.45,\n",
       "   335.05,\n",
       "   119.34,\n",
       "   334.21,\n",
       "   119.34,\n",
       "   336.18,\n",
       "   119.34,\n",
       "   338.43,\n",
       "   119.62,\n",
       "   340.81,\n",
       "   120.04,\n",
       "   342.08,\n",
       "   120.18,\n",
       "   343.48,\n",
       "   120.74,\n",
       "   346.85,\n",
       "   121.45,\n",
       "   349.66,\n",
       "   121.45,\n",
       "   352.33,\n",
       "   121.17,\n",
       "   355,\n",
       "   120.6,\n",
       "   357.81,\n",
       "   120.18,\n",
       "   361.32,\n",
       "   120.18,\n",
       "   364.27,\n",
       "   119.34,\n",
       "   366.37,\n",
       "   119.62,\n",
       "   367.64,\n",
       "   121.59,\n",
       "   367.78,\n",
       "   122.85,\n",
       "   367.5,\n",
       "   123.55,\n",
       "   366.09,\n",
       "   123.97,\n",
       "   363.28,\n",
       "   124.25,\n",
       "   360.62,\n",
       "   123.97,\n",
       "   357.53,\n",
       "   123.97,\n",
       "   354.86,\n",
       "   125.1,\n",
       "   352.19,\n",
       "   125.8,\n",
       "   350.78,\n",
       "   125.1,\n",
       "   354.44,\n",
       "   126.22,\n",
       "   357.39,\n",
       "   127.2,\n",
       "   359.07,\n",
       "   127.77,\n",
       "   360.9,\n",
       "   127.63,\n",
       "   363.14,\n",
       "   126.64,\n",
       "   364.41,\n",
       "   125.8,\n",
       "   365.53,\n",
       "   125.8,\n",
       "   365.53,\n",
       "   125.8,\n",
       "   365.53,\n",
       "   125.8,\n",
       "   365.53,\n",
       "   125.8,\n",
       "   365.53,\n",
       "   125.8,\n",
       "   365.53]],\n",
       " 'num_keypoints': 0,\n",
       " 'area': 250.8199,\n",
       " 'iscrowd': 0,\n",
       " 'keypoints': [0,\n",
       "  0,\n",
       "  0,\n",
       "  0,\n",
       "  0,\n",
       "  0,\n",
       "  0,\n",
       "  0,\n",
       "  0,\n",
       "  0,\n",
       "  0,\n",
       "  0,\n",
       "  0,\n",
       "  0,\n",
       "  0,\n",
       "  0,\n",
       "  0,\n",
       "  0,\n",
       "  0,\n",
       "  0,\n",
       "  0,\n",
       "  0,\n",
       "  0,\n",
       "  0,\n",
       "  0,\n",
       "  0,\n",
       "  0,\n",
       "  0,\n",
       "  0,\n",
       "  0,\n",
       "  0,\n",
       "  0,\n",
       "  0,\n",
       "  0,\n",
       "  0,\n",
       "  0,\n",
       "  0,\n",
       "  0,\n",
       "  0,\n",
       "  0,\n",
       "  0,\n",
       "  0,\n",
       "  0,\n",
       "  0,\n",
       "  0,\n",
       "  0,\n",
       "  0,\n",
       "  0,\n",
       "  0,\n",
       "  0,\n",
       "  0],\n",
       " 'image_id': 49,\n",
       " 'bbox': [119.34, 334.21, 11.94, 33.57],\n",
       " 'category_id': 1,\n",
       " 'id': 1211660}"
      ]
     },
     "execution_count": 21,
     "metadata": {},
     "output_type": "execute_result"
    }
   ],
   "source": [
    "objs[0]"
   ]
  },
  {
   "cell_type": "code",
   "execution_count": 8,
   "metadata": {},
   "outputs": [],
   "source": [
    "import pickle as pk\n",
    "with open('/home/aiteam/tykim/HybrIK/data/coco/annotations/person_keypoints_train2017.json.pkl', 'rb') as fid:\n",
    " test = pk.load(fid)"
   ]
  },
  {
   "cell_type": "code",
   "execution_count": null,
   "metadata": {},
   "outputs": [],
   "source": []
  }
 ],
 "metadata": {
  "kernelspec": {
   "display_name": "Python 3.7.13 ('hybrik')",
   "language": "python",
   "name": "python3"
  },
  "language_info": {
   "codemirror_mode": {
    "name": "ipython",
    "version": 3
   },
   "file_extension": ".py",
   "mimetype": "text/x-python",
   "name": "python",
   "nbconvert_exporter": "python",
   "pygments_lexer": "ipython3",
   "version": "3.7.13"
  },
  "orig_nbformat": 4,
  "vscode": {
   "interpreter": {
    "hash": "1e217b4c5fb9259235ccea530538be9833dd50f812ad2e8bc6672c6e5349c3fe"
   }
  }
 },
 "nbformat": 4,
 "nbformat_minor": 2
}
