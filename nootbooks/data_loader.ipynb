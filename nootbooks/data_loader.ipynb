{
 "cells": [
  {
   "cell_type": "code",
   "execution_count": 1,
   "metadata": {},
   "outputs": [
    {
     "name": "stderr",
     "output_type": "stream",
     "text": [
      "/home/aiteam/miniconda3/envs/hy-data2/lib/python3.7/site-packages/tqdm-4.64.0-py3.7.egg/tqdm/auto.py:22: TqdmWarning: IProgress not found. Please update jupyter and ipywidgets. See https://ipywidgets.readthedocs.io/en/stable/user_install.html\n",
      "  from .autonotebook import tqdm as notebook_tqdm\n"
     ]
    }
   ],
   "source": [
    "from hybrik.datasets import MixDataset, PW3D, H36MDataset"
   ]
  },
  {
   "cell_type": "code",
   "execution_count": 2,
   "metadata": {},
   "outputs": [],
   "source": [
    "config_file = '/home/aiteam/tykim/HybrIK/configs/256x192_adam_lr1e-3-res34_smpl_3d_base_2x_single_nc_test.yaml'"
   ]
  },
  {
   "cell_type": "code",
   "execution_count": 3,
   "metadata": {},
   "outputs": [],
   "source": [
    "import yaml\n",
    "from easydict import EasyDict as edict\n",
    "\n",
    "with open(config_file) as f:\n",
    "  cfg = edict(yaml.load(f, Loader=yaml.FullLoader))"
   ]
  },
  {
   "cell_type": "code",
   "execution_count": 4,
   "metadata": {},
   "outputs": [],
   "source": [
    "train_dataset = H36MDataset(cfg=cfg,train=True)"
   ]
  },
  {
   "cell_type": "code",
   "execution_count": 5,
   "metadata": {},
   "outputs": [],
   "source": [
    "import torch\n",
    "import numpy as np\n",
    "import random\n",
    "def _init_fn(worker_id):\n",
    "    np.random.seed(33)\n",
    "    random.seed(33)\n",
    "\n",
    "train_loader = torch.utils.data.DataLoader(\n",
    "        train_dataset, batch_size=cfg.TRAIN.BATCH_SIZE, shuffle=True, num_workers=4, worker_init_fn=_init_fn, pin_memory=False)"
   ]
  },
  {
   "cell_type": "code",
   "execution_count": 6,
   "metadata": {},
   "outputs": [
    {
     "name": "stdout",
     "output_type": "stream",
     "text": [
      "         31531067 function calls (30906688 primitive calls) in 117.729 seconds\n",
      "\n",
      "   Ordered by: standard name\n",
      "\n",
      "   ncalls  tottime  percall  cumtime  percall filename:lineno(function)\n",
      "  1248752    0.693    0.000    3.641    0.000 <__array_function__ internals>:2(concatenate)\n",
      "   624376    0.304    0.000    1.067    0.000 <__array_function__ internals>:2(copyto)\n",
      "   624376    0.322    0.000    6.387    0.000 <__array_function__ internals>:2(stack)\n",
      "        1    2.881    2.881  117.729  117.729 <string>:1(<module>)\n",
      "        1    0.000    0.000    0.000    0.000 __init__.py:145(_DType_reduce)\n",
      "        1    0.042    0.042   38.004   38.004 __init__.py:274(load)\n",
      "        1    0.000    0.000   35.327   35.327 __init__.py:299(loads)\n",
      "        1    0.000    0.000    0.000    0.000 _bootlocale.py:33(getpreferredencoding)\n",
      "   624376    0.186    0.000    1.282    0.000 _methods.py:60(_all)\n",
      "   312188    3.702    0.000    3.766    0.000 bbox.py:108(bbox_clip_xyxy)\n",
      "   312188    1.491    0.000    1.583    0.000 bbox.py:40(bbox_xywh_to_xyxy)\n",
      "        1    0.000    0.000    0.000    0.000 codecs.py:260(__init__)\n",
      "        1    0.000    0.000    0.000    0.000 codecs.py:309(__init__)\n",
      "        1    0.000    0.000    0.989    0.989 codecs.py:319(decode)\n",
      "        1    0.000    0.000   35.327   35.327 decoder.py:332(decode)\n",
      "        1   35.327   35.327   35.327   35.327 decoder.py:343(raw_decode)\n",
      "        1    0.000    0.000    0.000    0.000 genericpath.py:16(exists)\n",
      "        1    0.000    0.000    0.000    0.000 h36m_dataset.py:110(<listcomp>)\n",
      "        1    0.000    0.000    0.000    0.000 h36m_dataset.py:126(cumsum)\n",
      "        1    0.000    0.000  114.848  114.848 h36m_dataset.py:95(__init__)\n",
      "        3    0.000    0.000    0.000    0.000 h36m_smpl.py:164(__len__)\n",
      "        1    5.591    5.591  114.847  114.847 h36m_smpl.py:167(_lazy_load_json)\n",
      "        1   11.049   11.049   81.826   81.826 h36m_smpl.py:183(_load_jsons)\n",
      "        2    0.000    0.000    0.000    0.000 h36m_smpl.py:291(joint_pairs_17)\n",
      "        2    0.000    0.000    0.000    0.000 h36m_smpl.py:297(joint_pairs_24)\n",
      "        1    0.000    0.000    0.000    0.000 h36m_smpl.py:303(joint_pairs_29)\n",
      "        1    0.000    0.000  114.847  114.847 h36m_smpl.py:71(__init__)\n",
      "   624376    0.070    0.000    0.070    0.000 multiarray.py:1071(copyto)\n",
      "  1248752    0.152    0.000    0.152    0.000 multiarray.py:148(concatenate)\n",
      "   624376    0.452    0.000    1.855    0.000 numeric.py:149(ones)\n",
      "   624376    6.894    0.000    8.737    0.000 pose_utils.py:88(cam2pixel)\n",
      "   312189    0.097    0.000    0.155    0.000 posixpath.py:41(_get_sep)\n",
      "   312189    0.821    0.000    1.231    0.000 posixpath.py:75(join)\n",
      "   624376    0.184    0.000    0.327    0.000 shape_base.py:207(_arrays_for_stack_dispatcher)\n",
      "   624376    0.212    0.000    0.540    0.000 shape_base.py:348(_stack_dispatcher)\n",
      "   624376    2.060    0.000    5.081    0.000 shape_base.py:357(stack)\n",
      "   624376    0.292    0.000    0.396    0.000 shape_base.py:420(<listcomp>)\n",
      "   624376    0.309    0.000    0.309    0.000 shape_base.py:424(<setcomp>)\n",
      "   624376    0.334    0.000    0.334    0.000 shape_base.py:432(<listcomp>)\n",
      "        1    0.000    0.000    0.000    0.000 simple_transform_3d_smpl.py:82(__init__)\n",
      "        2    0.000    0.000    0.000    0.000 typing.py:814(__new__)\n",
      "        2    0.000    0.000    0.000    0.000 {built-in method __new__ of type object at 0x55da37fbb9a0}\n",
      "        1    0.989    0.989    0.989    0.989 {built-in method _codecs.utf_8_decode}\n",
      "        1    0.000    0.000    0.000    0.000 {built-in method _locale.nl_langinfo}\n",
      "        1   27.294   27.294   27.294   27.294 {built-in method _pickle.dump}\n",
      "        1    0.000    0.000  117.729  117.729 {built-in method builtins.exec}\n",
      "        2    0.000    0.000    0.000    0.000 {built-in method builtins.getattr}\n",
      "   624376    0.143    0.000    0.143    0.000 {built-in method builtins.hasattr}\n",
      "   936566    0.150    0.000    0.150    0.000 {built-in method builtins.isinstance}\n",
      "1248760/1248757    0.135    0.000    0.135    0.000 {built-in method builtins.len}\n",
      "   312190    0.130    0.000    0.130    0.000 {built-in method builtins.max}\n",
      "        2    0.136    0.068    0.136    0.068 {built-in method io.open}\n",
      "  3121882    6.664    0.000    6.664    0.000 {built-in method numpy.array}\n",
      "  1248752    0.105    0.000    0.105    0.000 {built-in method numpy.asanyarray}\n",
      "2497504/1873128    3.934    0.000    7.637    0.000 {built-in method numpy.core._multiarray_umath.implement_array_function}\n",
      "   624376    0.113    0.000    0.113    0.000 {built-in method numpy.core._multiarray_umath.normalize_axis_index}\n",
      "   624376    0.336    0.000    0.336    0.000 {built-in method numpy.empty}\n",
      "   312189    0.051    0.000    0.051    0.000 {built-in method posix.fspath}\n",
      "        1    0.000    0.000    0.000    0.000 {built-in method posix.stat}\n",
      "   624376    0.243    0.000    1.525    0.000 {method 'all' of 'numpy.ndarray' objects}\n",
      "   936567    0.112    0.000    0.112    0.000 {method 'append' of 'list' objects}\n",
      "        1    0.000    0.000    0.000    0.000 {method 'disable' of '_lsprof.Profiler' objects}\n",
      "        2    0.000    0.000    0.000    0.000 {method 'end' of 're.Match' objects}\n",
      "   624378    0.091    0.000    0.091    0.000 {method 'endswith' of 'str' objects}\n",
      "        3    0.000    0.000    0.000    0.000 {method 'get' of 'dict' objects}\n",
      "        6    0.000    0.000    0.000    0.000 {method 'index' of 'tuple' objects}\n",
      "   624376    0.063    0.000    0.063    0.000 {method 'items' of 'dict' objects}\n",
      "  3746256    0.240    0.000    0.240    0.000 {method 'keys' of 'dict' objects}\n",
      "        2    0.000    0.000    0.000    0.000 {method 'match' of 're.Pattern' objects}\n",
      "        1    1.647    1.647    2.635    2.635 {method 'read' of '_io.TextIOWrapper' objects}\n",
      "   624376    1.096    0.000    1.096    0.000 {method 'reduce' of 'numpy.ufunc' objects}\n",
      "   936564    0.480    0.000    0.480    0.000 {method 'reshape' of 'numpy.ndarray' objects}\n",
      "   624379    0.113    0.000    0.113    0.000 {method 'startswith' of 'str' objects}\n",
      "\n",
      "\n"
     ]
    }
   ],
   "source": [
    "import cProfile\n",
    "cProfile.run('H36MDataset(cfg=config, train=True)')"
   ]
  },
  {
   "cell_type": "code",
   "execution_count": 6,
   "metadata": {},
   "outputs": [],
   "source": [
    "import torch.profiler"
   ]
  },
  {
   "cell_type": "code",
   "execution_count": 8,
   "metadata": {},
   "outputs": [
    {
     "name": "stdout",
     "output_type": "stream",
     "text": [
      "step:0\n",
      "step:1\n",
      "step:2\n",
      "step:3\n"
     ]
    }
   ],
   "source": [
    "with torch.profiler.profile(\n",
    "      activities=[\n",
    "          torch.profiler.ProfilerActivity.CPU,\n",
    "          torch.profiler.ProfilerActivity.CUDA],\n",
    "      schedule=torch.profiler.schedule(\n",
    "          wait=1,\n",
    "          warmup=1,\n",
    "          active=2),\n",
    "      on_trace_ready=torch.profiler.tensorboard_trace_handler('./result', worker_name='worker0'),\n",
    "      record_shapes=True,\n",
    "      profile_memory=True,  # This will take 1 to 2 minutes. Setting it to False could greatly speedup.\n",
    "      with_stack=True\n",
    "  ) as p:\n",
    "    for step, data in enumerate(train_loader, 0):\n",
    "        print(\"step:{}\".format(step))\n",
    "        # inputs, labels = data[0].to(device=\"cuda\"), data[1].to(device=\"cuda\")\n",
    "        if step + 1 >= 4:\n",
    "            break\n",
    "        p.step()"
   ]
  },
  {
   "cell_type": "code",
   "execution_count": null,
   "metadata": {},
   "outputs": [],
   "source": []
  }
 ],
 "metadata": {
  "kernelspec": {
   "display_name": "Python 3.7.13 ('hy-data2')",
   "language": "python",
   "name": "python3"
  },
  "language_info": {
   "codemirror_mode": {
    "name": "ipython",
    "version": 3
   },
   "file_extension": ".py",
   "mimetype": "text/x-python",
   "name": "python",
   "nbconvert_exporter": "python",
   "pygments_lexer": "ipython3",
   "version": "3.7.13"
  },
  "orig_nbformat": 4,
  "vscode": {
   "interpreter": {
    "hash": "80479d0c6b193391f09885c2a1a6b5cecccbad6269c3231a8e16d6b320c3e81e"
   }
  }
 },
 "nbformat": 4,
 "nbformat_minor": 2
}
