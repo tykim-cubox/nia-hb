{
 "cells": [
  {
   "cell_type": "code",
   "execution_count": 14,
   "metadata": {},
   "outputs": [],
   "source": [
    "import json\n",
    "\n",
    "from hybrik.utils.bbox import bbox_clip_xyxy, bbox_xywh_to_xyxy\n",
    "from hybrik.utils.pose_utils import (cam2pixel_matrix, pixel2cam_matrix,\n",
    "                                     reconstruction_error)\n",
    "from hybrik.utils.presets import (SimpleTransform3DSMPL,\n",
    "                                  SimpleTransform3DSMPLCam)\n",
    "\n",
    "import numpy as np"
   ]
  },
  {
   "cell_type": "code",
   "execution_count": 1,
   "metadata": {},
   "outputs": [],
   "source": [
    "items = []\n",
    "labels = []\n",
    "ann_file = '/home/aiteam/tykim/nia-3d/HybrIK/data/3dhp/annotation_mpi_inf_3dhp_train_v2.json'"
   ]
  },
  {
   "cell_type": "code",
   "execution_count": 3,
   "metadata": {},
   "outputs": [],
   "source": [
    "with open(ann_file, 'r') as fid:\n",
    "    database = json.load(fid)"
   ]
  },
  {
   "cell_type": "code",
   "execution_count": 6,
   "metadata": {},
   "outputs": [
    {
     "data": {
      "text/plain": [
       "dict_keys(['id', 'file_name', 'width', 'height', 'subject', 'seq_idx', 'cam_idx', 'frame_idx', 'cam_param'])"
      ]
     },
     "execution_count": 6,
     "metadata": {},
     "output_type": "execute_result"
    }
   ],
   "source": [
    "database['images'][0].keys()"
   ]
  },
  {
   "cell_type": "code",
   "execution_count": 7,
   "metadata": {},
   "outputs": [
    {
     "data": {
      "text/plain": [
       "dict_keys(['id', 'image_id', 'category_id', 'iscrowd', 'keypoints_world', 'keypoints_cam', 'keypoints_img', 'keypoints_vis', 'bbox', 'area'])"
      ]
     },
     "execution_count": 7,
     "metadata": {},
     "output_type": "execute_result"
    }
   ],
   "source": [
    "database['annotations'][0].keys()"
   ]
  },
  {
   "cell_type": "code",
   "execution_count": 9,
   "metadata": {},
   "outputs": [
    {
     "data": {
      "text/plain": [
       "28"
      ]
     },
     "execution_count": 9,
     "metadata": {},
     "output_type": "execute_result"
    }
   ],
   "source": [
    "len(database['annotations'][0]['keypoints_cam'])"
   ]
  },
  {
   "cell_type": "code",
   "execution_count": 11,
   "metadata": {},
   "outputs": [],
   "source": [
    "joints_name = ('spine3', 'spine4', 'spine2', 'spine', 'pelvis',                         # 4\n",
    "                   'neck', 'head', 'head_top',                                              # 7\n",
    "                   'left_clavicle', 'left_shoulder', 'left_elbow',                          # 10\n",
    "                   'left_wrist', 'left_hand', 'right_clavicle',                             # 13\n",
    "                   'right_shoulder', 'right_elbow', 'right_wrist',                          # 16\n",
    "                   'right_hand', 'left_hip', 'left_knee',                                   # 19\n",
    "                   'left_ankle', 'left_foot', 'left_toe',                                   # 22\n",
    "                   'right_hip', 'right_knee', 'right_ankle', 'right_foot', 'right_toe')     # 27\n"
   ]
  },
  {
   "cell_type": "code",
   "execution_count": 12,
   "metadata": {},
   "outputs": [],
   "source": [
    "root_idx = joints_name.index('pelvis')\n",
    "num_joints = 28"
   ]
  },
  {
   "cell_type": "code",
   "execution_count": 16,
   "metadata": {},
   "outputs": [],
   "source": [
    "\n",
    "for ann_image, ann_annotations in zip(database['images'], database['annotations']):\n",
    "    ann = dict()\n",
    "    for k, v in ann_image.items():\n",
    "        assert k not in ann.keys()\n",
    "        ann[k] = v\n",
    "    for k, v in ann_annotations.items():\n",
    "        ann[k] = v\n",
    "\n",
    "    image_id = ann['image_id']\n",
    "\n",
    "    width, height = ann['width'], ann['height']\n",
    "    xmin, ymin, xmax, ymax = bbox_clip_xyxy(\n",
    "        bbox_xywh_to_xyxy(ann['bbox']), width, height)\n",
    "\n",
    "    intrinsic_param = np.array(ann['cam_param']['intrinsic_param'], dtype=np.float32)\n",
    "\n",
    "    f = np.array([intrinsic_param[0, 0], intrinsic_param[1, 1]], dtype=np.float32)\n",
    "    c = np.array([intrinsic_param[0, 2], intrinsic_param[1, 2]], dtype=np.float32)\n",
    "\n",
    "    joint_cam = np.array(ann['keypoints_cam'])\n",
    "\n",
    "    joint_img = cam2pixel_matrix(joint_cam, intrinsic_param)\n",
    "    joint_img[:, 2] = joint_img[:, 2] - joint_cam[root_idx, 2]\n",
    "    joint_vis = np.ones((num_joints, 3))\n",
    "\n",
    "    root_cam = joint_cam[root_idx]\n",
    "\n",
    "\n",
    "    labels.append({\n",
    "        'bbox': (xmin, ymin, xmax, ymax),\n",
    "        'img_id': image_id,\n",
    "        'img_name': ann['file_name'],\n",
    "        'width': width,\n",
    "        'height': height,\n",
    "        'joint_img': joint_img,\n",
    "        'joint_vis': joint_vis,\n",
    "        'joint_cam': joint_cam,\n",
    "        'root_cam': root_cam,\n",
    "        'intrinsic_param': intrinsic_param,\n",
    "        'f': f,\n",
    "        'c': c\n",
    "    })"
   ]
  },
  {
   "cell_type": "code",
   "execution_count": 17,
   "metadata": {},
   "outputs": [
    {
     "data": {
      "text/plain": [
       "{'bbox': (958.7267074584961,\n",
       "  826.9013595581055,\n",
       "  1074.279151916504,\n",
       "  1711.6228103637695),\n",
       " 'img_id': 0,\n",
       " 'img_name': 'S1/Seq1/images/S1_Seq1_V0/img_S1_Seq1_V0_000001.jpg',\n",
       " 'width': 2048,\n",
       " 'height': 2048,\n",
       " 'joint_img': array([[1014.16733982, 1091.08414691,  -13.65991211],\n",
       "        [1006.20655777, 1048.60433302,  -21.75      ],\n",
       "        [1019.90739724, 1122.38102961,   -8.19995117],\n",
       "        [1019.93871745, 1122.61410108,   -8.16845703],\n",
       "        [1025.3798342 , 1213.84595922,    0.        ],\n",
       "        [1023.9380922 , 1019.5250705 ,  -15.7800293 ],\n",
       "        [1029.56238731,  984.93115078,  -17.        ],\n",
       "        [1018.94669147,  915.37349387,  -27.85009766],\n",
       "        [1029.04544694, 1033.82473233,   30.87988281],\n",
       "        [1016.11168414, 1053.96442412,  110.31005859],\n",
       "        [1006.99957376, 1054.79064688,  426.11987305],\n",
       "        [1008.26216335, 1061.62873669,  670.26000977],\n",
       "        [1005.533607  , 1068.65020787,  756.55981445],\n",
       "        [1036.08123748, 1034.89639901,  -50.36010742],\n",
       "        [1029.86806922, 1048.50434869, -142.95996094],\n",
       "        [1037.87698586, 1075.88678045, -453.72998047],\n",
       "        [1057.20351288, 1091.26117968, -694.42993164],\n",
       "        [1062.72379783, 1097.69263805, -782.81005859],\n",
       "        [1015.78045233, 1208.22688167,  116.60253906],\n",
       "        [1006.67573756, 1428.30171486,   87.33007812],\n",
       "        [ 970.28196297, 1601.18990533,   66.93994141],\n",
       "        [1007.41770238, 1608.36212654,   94.67993164],\n",
       "        [1017.9270365 , 1606.15647425,   99.15991211],\n",
       "        [1035.60163424, 1219.82938704, -116.60253906],\n",
       "        [1018.41888631, 1442.07709845,  -42.92993164],\n",
       "        [ 989.56510729, 1611.34618939,    5.13989258],\n",
       "        [1028.90634351, 1623.15063444,   -8.84008789],\n",
       "        [1039.53664515, 1620.87606754,  -12.20996094]]),\n",
       " 'joint_vis': array([[1., 1., 1.],\n",
       "        [1., 1., 1.],\n",
       "        [1., 1., 1.],\n",
       "        [1., 1., 1.],\n",
       "        [1., 1., 1.],\n",
       "        [1., 1., 1.],\n",
       "        [1., 1., 1.],\n",
       "        [1., 1., 1.],\n",
       "        [1., 1., 1.],\n",
       "        [1., 1., 1.],\n",
       "        [1., 1., 1.],\n",
       "        [1., 1., 1.],\n",
       "        [1., 1., 1.],\n",
       "        [1., 1., 1.],\n",
       "        [1., 1., 1.],\n",
       "        [1., 1., 1.],\n",
       "        [1., 1., 1.],\n",
       "        [1., 1., 1.],\n",
       "        [1., 1., 1.],\n",
       "        [1., 1., 1.],\n",
       "        [1., 1., 1.],\n",
       "        [1., 1., 1.],\n",
       "        [1., 1., 1.],\n",
       "        [1., 1., 1.],\n",
       "        [1., 1., 1.],\n",
       "        [1., 1., 1.],\n",
       "        [1., 1., 1.],\n",
       "        [1., 1., 1.]]),\n",
       " 'joint_cam': array([[-2.60275993e+01,  9.80811005e+01,  3.69960010e+03],\n",
       "        [-4.55923996e+01, -6.87877989e+00,  3.69151001e+03],\n",
       "        [-1.18660002e+01,  1.75679993e+02,  3.70506006e+03],\n",
       "        [-1.17886190e+01,  1.76258301e+02,  3.70509155e+03],\n",
       "        [ 1.67566001e+00,  4.02928986e+02,  3.71326001e+03],\n",
       "        [-1.89081001e+00, -7.87086029e+01,  3.69747998e+03],\n",
       "        [ 1.19904003e+01, -1.64093002e+02,  3.69626001e+03],\n",
       "        [-1.41671000e+01, -3.34841003e+02,  3.68540991e+03],\n",
       "        [ 1.08534002e+01, -4.39394989e+01,  3.74413989e+03],\n",
       "        [-2.19358997e+01,  6.56470013e+00,  3.82357007e+03],\n",
       "        [-4.89320984e+01,  9.39136028e+00,  4.13937988e+03],\n",
       "        [-4.81226997e+01,  2.99671993e+01,  4.38352002e+03],\n",
       "        [-5.72134018e+01,  5.15208015e+01,  4.46981982e+03],\n",
       "        [ 2.78253002e+01, -4.03641014e+01,  3.66289990e+03],\n",
       "        [ 1.23105001e+01, -6.89135981e+00,  3.57030005e+03],\n",
       "        [ 2.86693001e+01,  5.33261986e+01,  3.25953003e+03],\n",
       "        [ 6.55077972e+01,  8.03899994e+01,  3.01883008e+03],\n",
       "        [ 7.43911972e+01,  9.06255035e+01,  2.93044995e+03],\n",
       "        [-2.28190174e+01,  4.01207001e+02,  3.82986255e+03],\n",
       "        [-4.57490005e+01,  9.56828979e+02,  3.80059009e+03],\n",
       "        [-1.37362000e+02,  1.38823999e+03,  3.78019995e+03],\n",
       "        [-4.39510002e+01,  1.41667004e+03,  3.80793994e+03],\n",
       "        [-1.72509003e+01,  1.41271997e+03,  3.81241992e+03],\n",
       "        [ 2.61703377e+01,  4.04651001e+02,  3.59665747e+03],\n",
       "        [-1.54026003e+01,  9.57807007e+02,  3.67033008e+03],\n",
       "        [-8.72410965e+01,  1.39077002e+03,  3.71839990e+03],\n",
       "        [ 1.03942003e+01,  1.41475000e+03,  3.70441992e+03],\n",
       "        [ 3.66539993e+01,  1.40783997e+03,  3.70105005e+03]]),\n",
       " 'root_cam': array([1.67566001e+00, 4.02928986e+02, 3.71326001e+03]),\n",
       " 'intrinsic_param': array([[1.497693e+03, 0.000000e+00, 1.024704e+03, 0.000000e+00],\n",
       "        [0.000000e+00, 1.497103e+03, 1.051394e+03, 0.000000e+00],\n",
       "        [0.000000e+00, 0.000000e+00, 1.000000e+00, 0.000000e+00]],\n",
       "       dtype=float32),\n",
       " 'f': array([1497.693, 1497.103], dtype=float32),\n",
       " 'c': array([1024.704, 1051.394], dtype=float32)}"
      ]
     },
     "execution_count": 17,
     "metadata": {},
     "output_type": "execute_result"
    }
   ],
   "source": [
    "labels[0]"
   ]
  },
  {
   "cell_type": "code",
   "execution_count": 1,
   "metadata": {},
   "outputs": [
    {
     "name": "stderr",
     "output_type": "stream",
     "text": [
      "/home/aiteam/miniconda3/envs/hybrik3/lib/python3.8/site-packages/tqdm-4.64.1-py3.8.egg/tqdm/auto.py:22: TqdmWarning: IProgress not found. Please update jupyter and ipywidgets. See https://ipywidgets.readthedocs.io/en/stable/user_install.html\n",
      "  from .autonotebook import tqdm as notebook_tqdm\n"
     ]
    }
   ],
   "source": [
    "\"\"\"Script for multi-gpu training.\"\"\"\n",
    "import os\n",
    "import pickle as pk\n",
    "import random\n",
    "import sys\n",
    "\n",
    "import numpy as np\n",
    "import torch\n",
    "import torch.multiprocessing as mp\n",
    "import torch.utils.data\n",
    "from torch.nn.utils import clip_grad_norm_\n",
    "from torch.nn.utils import clip_grad\n",
    "\n",
    "from hybrik.datasets import MixDataset, MixDatasetCam, PW3D, MixDataset2Cam, H36NIADataset, H36NIADatasetCam, NIA, Mscoco, H36MCoCoDataset, HP3D, H36mSMPL, NIA3D, NIA3DMixDataset\n",
    "\n",
    "\n",
    "from hybrik.utils.bbox import bbox_clip_xyxy, bbox_xywh_to_xyxy\n",
    "from hybrik.utils.pose_utils import cam2pixel, pixel2cam, reconstruction_error\n",
    "\n",
    "import yaml\n",
    "from easydict import EasyDict as edict\n",
    "\n",
    "config_file = '/home/aiteam/tykim/nia-3d/HybrIK/configs/256x192_adam_lr1e-3-res34_smpl_3d_cam_2x_mix_nia.yaml'\n",
    "\n",
    "with open(config_file) as f:\n",
    "  cfg = edict(yaml.load(f, Loader=yaml.FullLoader))"
   ]
  },
  {
   "cell_type": "code",
   "execution_count": 3,
   "metadata": {},
   "outputs": [],
   "source": [
    "db2 = HP3D(\n",
    "            cfg=cfg,\n",
    "            root = '/home/aiteam/tykim/nia-3d/HybrIK/data/3dhp', \n",
    "            ann_file='train_v2',\n",
    "            train=True)"
   ]
  },
  {
   "cell_type": "code",
   "execution_count": 4,
   "metadata": {},
   "outputs": [],
   "source": [
    "img, target, img_id, bbox =  db2[2]"
   ]
  },
  {
   "cell_type": "code",
   "execution_count": 6,
   "metadata": {},
   "outputs": [
    {
     "data": {
      "text/plain": [
       "torch.Size([84])"
      ]
     },
     "execution_count": 6,
     "metadata": {},
     "output_type": "execute_result"
    }
   ],
   "source": [
    "target['target'].shape"
   ]
  },
  {
   "cell_type": "code",
   "execution_count": 5,
   "metadata": {},
   "outputs": [
    {
     "data": {
      "text/plain": [
       "{'type': '2d_data',\n",
       " 'target': tensor([ 0.1115, -0.1090, -0.0063,  0.1422, -0.1312, -0.0134,  0.0891, -0.0924,\n",
       "         -0.0024,  0.0889, -0.0923, -0.0023,  0.0306, -0.0365,  0.0000,  0.1495,\n",
       "         -0.1604, -0.0105,  0.1671, -0.1860, -0.0118,  0.2158, -0.2247, -0.0153,\n",
       "          0.1306, -0.1587, -0.0230,  0.1258, -0.1527, -0.0672,  0.1053, -0.1363,\n",
       "         -0.2082,  0.0823, -0.1412, -0.3173,  0.0726, -0.1384, -0.3570,  0.1400,\n",
       "         -0.1539,  0.0124,  0.1389, -0.1394,  0.0536,  0.1413, -0.1305,  0.1970,\n",
       "          0.1363, -0.1262,  0.3080,  0.1358, -0.1182,  0.3465,  0.0182, -0.0443,\n",
       "         -0.0511, -0.1079,  0.1084, -0.0200, -0.1866,  0.2385,  0.0011, -0.2188,\n",
       "          0.2218, -0.0019, -0.2239,  0.2135, -0.0024,  0.0422, -0.0291,  0.0511,\n",
       "         -0.0907,  0.1126,  0.0377, -0.1748,  0.2442,  0.0289, -0.1971,  0.2209,\n",
       "          0.0480, -0.2009,  0.2123,  0.0518]),\n",
       " 'target_weight': tensor([1., 1., 1., 1., 1., 1., 1., 1., 1., 1., 1., 1., 1., 1., 1., 1., 1., 1.,\n",
       "         1., 1., 1., 1., 1., 1., 1., 1., 1., 1., 1., 1., 1., 1., 1., 1., 1., 1.,\n",
       "         1., 1., 1., 1., 1., 1., 1., 1., 1., 1., 1., 1., 1., 1., 1., 1., 1., 1.,\n",
       "         1., 1., 1., 1., 1., 1., 1., 1., 1., 1., 1., 1., 1., 1., 1., 1., 1., 1.,\n",
       "         1., 1., 1., 1., 1., 1., 1., 1., 1., 1., 1., 1.]),\n",
       " 'trans_inv': tensor([[   3.1801,    3.0717,  226.0457],\n",
       "         [  -3.0717,    3.1801, 1255.9620]]),\n",
       " 'intrinsic_param': tensor([[ 6.6769e-04,  0.0000e+00, -6.8419e-01],\n",
       "         [ 0.0000e+00,  6.6796e-04, -7.0229e-01],\n",
       "         [ 0.0000e+00,  0.0000e+00,  1.0000e+00]]),\n",
       " 'joint_root': tensor([-4.8712e-01,  4.0874e+02,  3.7153e+03]),\n",
       " 'depth_factor': tensor([2200.])}"
      ]
     },
     "execution_count": 5,
     "metadata": {},
     "output_type": "execute_result"
    }
   ],
   "source": [
    "target"
   ]
  },
  {
   "cell_type": "code",
   "execution_count": null,
   "metadata": {},
   "outputs": [],
   "source": []
  }
 ],
 "metadata": {
  "kernelspec": {
   "display_name": "Python 3.8.13 ('hybrik3')",
   "language": "python",
   "name": "python3"
  },
  "language_info": {
   "codemirror_mode": {
    "name": "ipython",
    "version": 3
   },
   "file_extension": ".py",
   "mimetype": "text/x-python",
   "name": "python",
   "nbconvert_exporter": "python",
   "pygments_lexer": "ipython3",
   "version": "3.8.13"
  },
  "orig_nbformat": 4,
  "vscode": {
   "interpreter": {
    "hash": "620e28324a4e6547f454516a16cf927789dd3de41c0039d9e4c17e60ce4d7d08"
   }
  }
 },
 "nbformat": 4,
 "nbformat_minor": 2
}
